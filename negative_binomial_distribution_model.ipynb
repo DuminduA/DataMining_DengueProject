{
 "cells": [
  {
   "cell_type": "code",
   "execution_count": 1,
   "metadata": {},
   "outputs": [],
   "source": [
    "#Import Relavent Python3 Libraries"
   ]
  },
  {
   "cell_type": "code",
   "execution_count": 2,
   "metadata": {},
   "outputs": [],
   "source": [
    "import pandas as pd\n",
    "from matplotlib import pyplot as plt"
   ]
  },
  {
   "cell_type": "code",
   "execution_count": 3,
   "metadata": {},
   "outputs": [],
   "source": [
    "def preprocessing_data(feature_path, labels_path=None):\n",
    "    \n",
    "    data_frame = pd.read_csv(feature_path, index_col=[0, 1, 2])\n",
    "    \n",
    "    # selecting best corelated features\n",
    "    features = ['reanalysis_specific_humidity_g_per_kg', \n",
    "             'reanalysis_dew_point_temp_k', \n",
    "             'reanalysis_min_air_temp_k', \n",
    "             'station_min_temp_c']\n",
    "    data_frame = data_frame[features]\n",
    "    \n",
    "    # fill missing values using interpolation\n",
    "    data_frame.fillna(data_frame.interpolate(), inplace=True)\n",
    "\n",
    "    # Data integration\n",
    "    if labels_path:\n",
    "        labels = pd.read_csv(labels_path, index_col=[0, 1, 2])\n",
    "        data_frame = data_frame.join(labels)\n",
    "    \n",
    "    # separate san juan and iquitos cities\n",
    "    sj = data_frame.loc['sj']\n",
    "    iq = data_frame.loc['iq']\n",
    "    \n",
    "    return sj, iq"
   ]
  },
  {
   "cell_type": "markdown",
   "metadata": {},
   "source": [
    "Calling the preprocessing methods on given data"
   ]
  },
  {
   "cell_type": "markdown",
   "metadata": {},
   "source": [
    "# Reading the data files given from DrivenData"
   ]
  },
  {
   "cell_type": "code",
   "execution_count": 4,
   "metadata": {},
   "outputs": [],
   "source": [
    "# File Names\n",
    "feature_train_file_name = \"dengue_features_train.csv\"\n",
    "labels_train_file_name = \"dengue_labels_train.csv\""
   ]
  },
  {
   "cell_type": "code",
   "execution_count": 5,
   "metadata": {},
   "outputs": [],
   "source": [
    "# File Locations\n",
    "feature_train_file_loc = \"Data/\" + feature_train_file_name\n",
    "labels_train_file_loc = \"Data/\" + labels_train_file_name"
   ]
  },
  {
   "cell_type": "code",
   "execution_count": 6,
   "metadata": {},
   "outputs": [],
   "source": [
    "sj_train, iq_train = preprocessing_data(feature_train_file_loc, \n",
    "                                    labels_path=labels_train_file_loc)"
   ]
  },
  {
   "cell_type": "code",
   "execution_count": 7,
   "metadata": {},
   "outputs": [
    {
     "data": {
      "text/html": [
       "<div>\n",
       "<style scoped>\n",
       "    .dataframe tbody tr th:only-of-type {\n",
       "        vertical-align: middle;\n",
       "    }\n",
       "\n",
       "    .dataframe tbody tr th {\n",
       "        vertical-align: top;\n",
       "    }\n",
       "\n",
       "    .dataframe thead th {\n",
       "        text-align: right;\n",
       "    }\n",
       "</style>\n",
       "<table border=\"1\" class=\"dataframe\">\n",
       "  <thead>\n",
       "    <tr style=\"text-align: right;\">\n",
       "      <th></th>\n",
       "      <th>reanalysis_specific_humidity_g_per_kg</th>\n",
       "      <th>reanalysis_dew_point_temp_k</th>\n",
       "      <th>reanalysis_min_air_temp_k</th>\n",
       "      <th>station_min_temp_c</th>\n",
       "      <th>total_cases</th>\n",
       "    </tr>\n",
       "  </thead>\n",
       "  <tbody>\n",
       "    <tr>\n",
       "      <th>count</th>\n",
       "      <td>936.000000</td>\n",
       "      <td>936.000000</td>\n",
       "      <td>936.000000</td>\n",
       "      <td>936.000000</td>\n",
       "      <td>936.000000</td>\n",
       "    </tr>\n",
       "    <tr>\n",
       "      <th>mean</th>\n",
       "      <td>16.546255</td>\n",
       "      <td>295.103507</td>\n",
       "      <td>297.297222</td>\n",
       "      <td>22.593803</td>\n",
       "      <td>34.180556</td>\n",
       "    </tr>\n",
       "    <tr>\n",
       "      <th>std</th>\n",
       "      <td>1.558857</td>\n",
       "      <td>1.567907</td>\n",
       "      <td>1.293459</td>\n",
       "      <td>1.505416</td>\n",
       "      <td>51.381372</td>\n",
       "    </tr>\n",
       "    <tr>\n",
       "      <th>min</th>\n",
       "      <td>11.715714</td>\n",
       "      <td>289.642857</td>\n",
       "      <td>292.600000</td>\n",
       "      <td>17.800000</td>\n",
       "      <td>0.000000</td>\n",
       "    </tr>\n",
       "    <tr>\n",
       "      <th>25%</th>\n",
       "      <td>15.225714</td>\n",
       "      <td>293.832857</td>\n",
       "      <td>296.300000</td>\n",
       "      <td>21.700000</td>\n",
       "      <td>9.000000</td>\n",
       "    </tr>\n",
       "    <tr>\n",
       "      <th>50%</th>\n",
       "      <td>16.832143</td>\n",
       "      <td>295.447143</td>\n",
       "      <td>297.500000</td>\n",
       "      <td>22.800000</td>\n",
       "      <td>19.000000</td>\n",
       "    </tr>\n",
       "    <tr>\n",
       "      <th>75%</th>\n",
       "      <td>17.854286</td>\n",
       "      <td>296.415714</td>\n",
       "      <td>298.400000</td>\n",
       "      <td>23.900000</td>\n",
       "      <td>37.000000</td>\n",
       "    </tr>\n",
       "    <tr>\n",
       "      <th>max</th>\n",
       "      <td>19.440000</td>\n",
       "      <td>297.795714</td>\n",
       "      <td>299.900000</td>\n",
       "      <td>25.600000</td>\n",
       "      <td>461.000000</td>\n",
       "    </tr>\n",
       "  </tbody>\n",
       "</table>\n",
       "</div>"
      ],
      "text/plain": [
       "       reanalysis_specific_humidity_g_per_kg  reanalysis_dew_point_temp_k  \\\n",
       "count                             936.000000                   936.000000   \n",
       "mean                               16.546255                   295.103507   \n",
       "std                                 1.558857                     1.567907   \n",
       "min                                11.715714                   289.642857   \n",
       "25%                                15.225714                   293.832857   \n",
       "50%                                16.832143                   295.447143   \n",
       "75%                                17.854286                   296.415714   \n",
       "max                                19.440000                   297.795714   \n",
       "\n",
       "       reanalysis_min_air_temp_k  station_min_temp_c  total_cases  \n",
       "count                 936.000000          936.000000   936.000000  \n",
       "mean                  297.297222           22.593803    34.180556  \n",
       "std                     1.293459            1.505416    51.381372  \n",
       "min                   292.600000           17.800000     0.000000  \n",
       "25%                   296.300000           21.700000     9.000000  \n",
       "50%                   297.500000           22.800000    19.000000  \n",
       "75%                   298.400000           23.900000    37.000000  \n",
       "max                   299.900000           25.600000   461.000000  "
      ]
     },
     "execution_count": 7,
     "metadata": {},
     "output_type": "execute_result"
    }
   ],
   "source": [
    "sj_train.describe()"
   ]
  },
  {
   "cell_type": "code",
   "execution_count": 8,
   "metadata": {},
   "outputs": [
    {
     "data": {
      "text/html": [
       "<div>\n",
       "<style scoped>\n",
       "    .dataframe tbody tr th:only-of-type {\n",
       "        vertical-align: middle;\n",
       "    }\n",
       "\n",
       "    .dataframe tbody tr th {\n",
       "        vertical-align: top;\n",
       "    }\n",
       "\n",
       "    .dataframe thead th {\n",
       "        text-align: right;\n",
       "    }\n",
       "</style>\n",
       "<table border=\"1\" class=\"dataframe\">\n",
       "  <thead>\n",
       "    <tr style=\"text-align: right;\">\n",
       "      <th></th>\n",
       "      <th>reanalysis_specific_humidity_g_per_kg</th>\n",
       "      <th>reanalysis_dew_point_temp_k</th>\n",
       "      <th>reanalysis_min_air_temp_k</th>\n",
       "      <th>station_min_temp_c</th>\n",
       "      <th>total_cases</th>\n",
       "    </tr>\n",
       "  </thead>\n",
       "  <tbody>\n",
       "    <tr>\n",
       "      <th>count</th>\n",
       "      <td>520.000000</td>\n",
       "      <td>520.000000</td>\n",
       "      <td>520.000000</td>\n",
       "      <td>520.000000</td>\n",
       "      <td>520.000000</td>\n",
       "    </tr>\n",
       "    <tr>\n",
       "      <th>mean</th>\n",
       "      <td>17.101786</td>\n",
       "      <td>295.498441</td>\n",
       "      <td>292.876635</td>\n",
       "      <td>21.205673</td>\n",
       "      <td>7.565385</td>\n",
       "    </tr>\n",
       "    <tr>\n",
       "      <th>std</th>\n",
       "      <td>1.442356</td>\n",
       "      <td>1.413767</td>\n",
       "      <td>1.660695</td>\n",
       "      <td>1.261338</td>\n",
       "      <td>10.765478</td>\n",
       "    </tr>\n",
       "    <tr>\n",
       "      <th>min</th>\n",
       "      <td>12.111429</td>\n",
       "      <td>290.088571</td>\n",
       "      <td>286.900000</td>\n",
       "      <td>14.700000</td>\n",
       "      <td>0.000000</td>\n",
       "    </tr>\n",
       "    <tr>\n",
       "      <th>25%</th>\n",
       "      <td>16.121429</td>\n",
       "      <td>294.596429</td>\n",
       "      <td>292.000000</td>\n",
       "      <td>20.600000</td>\n",
       "      <td>1.000000</td>\n",
       "    </tr>\n",
       "    <tr>\n",
       "      <th>50%</th>\n",
       "      <td>17.435000</td>\n",
       "      <td>295.862857</td>\n",
       "      <td>293.100000</td>\n",
       "      <td>21.350000</td>\n",
       "      <td>5.000000</td>\n",
       "    </tr>\n",
       "    <tr>\n",
       "      <th>75%</th>\n",
       "      <td>18.180357</td>\n",
       "      <td>296.548571</td>\n",
       "      <td>294.200000</td>\n",
       "      <td>22.000000</td>\n",
       "      <td>9.000000</td>\n",
       "    </tr>\n",
       "    <tr>\n",
       "      <th>max</th>\n",
       "      <td>20.461429</td>\n",
       "      <td>298.450000</td>\n",
       "      <td>296.000000</td>\n",
       "      <td>24.200000</td>\n",
       "      <td>116.000000</td>\n",
       "    </tr>\n",
       "  </tbody>\n",
       "</table>\n",
       "</div>"
      ],
      "text/plain": [
       "       reanalysis_specific_humidity_g_per_kg  reanalysis_dew_point_temp_k  \\\n",
       "count                             520.000000                   520.000000   \n",
       "mean                               17.101786                   295.498441   \n",
       "std                                 1.442356                     1.413767   \n",
       "min                                12.111429                   290.088571   \n",
       "25%                                16.121429                   294.596429   \n",
       "50%                                17.435000                   295.862857   \n",
       "75%                                18.180357                   296.548571   \n",
       "max                                20.461429                   298.450000   \n",
       "\n",
       "       reanalysis_min_air_temp_k  station_min_temp_c  total_cases  \n",
       "count                 520.000000          520.000000   520.000000  \n",
       "mean                  292.876635           21.205673     7.565385  \n",
       "std                     1.660695            1.261338    10.765478  \n",
       "min                   286.900000           14.700000     0.000000  \n",
       "25%                   292.000000           20.600000     1.000000  \n",
       "50%                   293.100000           21.350000     5.000000  \n",
       "75%                   294.200000           22.000000     9.000000  \n",
       "max                   296.000000           24.200000   116.000000  "
      ]
     },
     "execution_count": 8,
     "metadata": {},
     "output_type": "execute_result"
    }
   ],
   "source": [
    "iq_train.describe()"
   ]
  },
  {
   "cell_type": "markdown",
   "metadata": {},
   "source": [
    "Selecting the train data and test data from the dengue_features_train.csv file"
   ]
  },
  {
   "cell_type": "code",
   "execution_count": 9,
   "metadata": {},
   "outputs": [],
   "source": [
    "sj_train_sub_train_data = sj_train.head(750)\n",
    "sj_train_sub_test_data = sj_train.tail(sj_train.shape[0] - 750)\n",
    "\n",
    "iq_train_sub_train_data = iq_train.head(400)\n",
    "iq_train_sub_test_data = iq_train.tail(iq_train.shape[0] - 400)"
   ]
  },
  {
   "cell_type": "code",
   "execution_count": 10,
   "metadata": {},
   "outputs": [],
   "source": [
    "def preprocessing_data(feature_path, labels_path=None):\n",
    "    \n",
    "    data_frame = pd.read_csv(feature_path, index_col=[0, 1, 2])\n",
    "    \n",
    "    # selecting best corelated features\n",
    "    features = ['reanalysis_specific_humidity_g_per_kg', \n",
    "             'reanalysis_dew_point_temp_k', \n",
    "             'reanalysis_min_air_temp_k', \n",
    "             'station_min_temp_c']\n",
    "    data_frame = data_frame[features]\n",
    "    \n",
    "    # fill missing values using interpolation\n",
    "    data_frame.fillna(method='ffill', inplace=True)\n",
    "\n",
    "    # Data integration\n",
    "    if labels_path:\n",
    "        labels = pd.read_csv(labels_path, index_col=[0, 1, 2])\n",
    "        data_frame = data_frame.join(labels)\n",
    "    \n",
    "    # separate san juan and iquitos cities\n",
    "    sj = data_frame.loc['sj']\n",
    "    iq = data_frame.loc['iq']\n",
    "    \n",
    "    return sj, iq"
   ]
  },
  {
   "cell_type": "code",
   "execution_count": 11,
   "metadata": {},
   "outputs": [],
   "source": [
    "sj_train, iq_train = preprocessing_data(feature_train_file_loc, \n",
    "                                    labels_path=labels_train_file_loc)"
   ]
  },
  {
   "cell_type": "markdown",
   "metadata": {},
   "source": [
    "Finding the best Model"
   ]
  },
  {
   "cell_type": "code",
   "execution_count": 12,
   "metadata": {},
   "outputs": [
    {
     "name": "stdout",
     "output_type": "stream",
     "text": [
      "best alpha =  1e-08\n",
      "best score =  24.553763440860216\n",
      "best alpha =  1e-08\n",
      "best score =  6.441666666666666\n"
     ]
    }
   ],
   "source": [
    "from statsmodels.tools import eval_measures\n",
    "import statsmodels.formula.api as smf\n",
    "import statsmodels.genmod as sm\n",
    "import numpy as np\n",
    "\n",
    "def find_best_model(train, test):\n",
    "#     Model formula\n",
    "    model_formula = \"total_cases ~ 1 + \" \\\n",
    "                    \"reanalysis_specific_humidity_g_per_kg + \" \\\n",
    "                    \"reanalysis_dew_point_temp_k + \" \\\n",
    "                    \"station_min_temp_c + \" \\\n",
    "                    \"reanalysis_min_air_temp_k\"\n",
    "    \n",
    "    grid = 10 ** np.arange(-8, -3, dtype=np.float64)\n",
    "                    \n",
    "    best_alpha = []\n",
    "    best_score = 1000\n",
    "        \n",
    "    # Finding the best Alpha\n",
    "    for alpha in grid:\n",
    "        model = smf.glm(formula=model_formula,\n",
    "                        data=train,\n",
    "                        family=sm.families.NegativeBinomial(alpha=alpha))\n",
    "\n",
    "        results = model.fit()\n",
    "        predictions = results.predict(test).astype(int)\n",
    "        score = eval_measures.meanabs(predictions, test.total_cases)\n",
    "\n",
    "        if score < best_score:\n",
    "            best_alpha = alpha\n",
    "            best_score = score\n",
    "\n",
    "    print('best alpha = ', best_alpha)\n",
    "    print('best score = ', best_score)\n",
    "            \n",
    "    # Use the entire dataset\n",
    "    full_dataset = pd.concat([train, test])\n",
    "    model = smf.glm(formula=model_formula,\n",
    "                    data=full_dataset,\n",
    "                    family=sm.families.NegativeBinomial(alpha=best_alpha))\n",
    "\n",
    "    fitted_model = model.fit()\n",
    "    return fitted_model\n",
    "    \n",
    "sj_best_model = find_best_model(sj_train_sub_train_data, sj_train_sub_test_data)\n",
    "iq_best_model = find_best_model(iq_train_sub_train_data, iq_train_sub_test_data)"
   ]
  },
  {
   "cell_type": "code",
   "execution_count": 13,
   "metadata": {},
   "outputs": [
    {
     "data": {
      "text/plain": [
       "<matplotlib.legend.Legend at 0x7f9410932860>"
      ]
     },
     "execution_count": 13,
     "metadata": {},
     "output_type": "execute_result"
    },
    {
     "data": {
      "image/png": "[encoded data removed]",
      "text/plain": [
       "<Figure size 432x288 with 2 Axes>"
      ]
     },
     "metadata": {},
     "output_type": "display_data"
    }
   ],
   "source": [
    "figs, axes = plt.subplots(nrows=2, ncols=1)\n",
    "\n",
    "# plot sj\n",
    "sj_train['fitted'] = sj_best_model.fittedvalues\n",
    "sj_train.fitted.plot(ax=axes[0], label=\"Predictions\")\n",
    "sj_train.total_cases.plot(ax=axes[0], label=\"Actual\")\n",
    "\n",
    "# plot iq\n",
    "iq_train['fitted'] = iq_best_model.fittedvalues\n",
    "iq_train.fitted.plot(ax=axes[1], label=\"Predictions\")\n",
    "iq_train.total_cases.plot(ax=axes[1], label=\"Actual\")\n",
    "\n",
    "plt.suptitle(\"Dengue Predicted Cases vs. Actual Cases\")\n",
    "plt.legend()"
   ]
  },
  {
   "cell_type": "code",
   "execution_count": 14,
   "metadata": {},
   "outputs": [],
   "source": [
    "sj_test, iq_test = preprocessing_data(\"Data/dengue_features_test.csv\")\n",
    "\n",
    "sj_predictions = sj_best_model.predict(sj_test).astype(int)\n",
    "iq_predictions = iq_best_model.predict(iq_test).astype(int)"
   ]
  },
  {
   "cell_type": "code",
   "execution_count": 15,
   "metadata": {},
   "outputs": [],
   "source": [
    "submission = pd.read_csv(\"Data/submission_format.csv\",index_col=[0,1,2])\n",
    "labels_data = pd.read_csv(labels_train_file_loc,index_col=[0,1,2])"
   ]
  },
  {
   "cell_type": "markdown",
   "metadata": {},
   "source": [
    "Ready the submission file"
   ]
  },
  {
   "cell_type": "code",
   "execution_count": 16,
   "metadata": {},
   "outputs": [],
   "source": [
    "total_cases = sj_predictions + iq_predictions"
   ]
  },
  {
   "cell_type": "code",
   "execution_count": 17,
   "metadata": {},
   "outputs": [],
   "source": [
    "submission.total_cases = np.concatenate([sj_predictions, iq_predictions])\n",
    "submission.to_csv(\"Data/results/predicted_results.csv\")"
   ]
  },
  {
   "cell_type": "code",
   "execution_count": null,
   "metadata": {},
   "outputs": [],
   "source": []
  }
 ],
 "metadata": {
  "kernelspec": {
   "display_name": "Python 3",
   "language": "python",
   "name": "python3"
  },
  "language_info": {
   "codemirror_mode": {
    "name": "ipython",
    "version": 3
   },
   "file_extension": ".py",
   "mimetype": "text/x-python",
   "name": "python",
   "nbconvert_exporter": "python",
   "pygments_lexer": "ipython3",
   "version": "3.6.5"
  }
 },
 "nbformat": 4,
 "nbformat_minor": 2
}
